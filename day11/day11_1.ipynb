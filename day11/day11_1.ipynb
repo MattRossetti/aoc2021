{
 "cells": [
  {
   "cell_type": "code",
   "execution_count": 100,
   "metadata": {},
   "outputs": [],
   "source": [
    "def build_octopus_grid(file_path):\n",
    "    with open(file_path) as file:\n",
    "        lines = file.read().splitlines()\n",
    "        octopus_grid = []\n",
    "        for line in lines:\n",
    "            line_list = []\n",
    "            for char in line:\n",
    "                line_list.append(int(char))\n",
    "            octopus_grid.append(line_list)\n",
    "\n",
    "    return octopus_grid"
   ]
  },
  {
   "cell_type": "code",
   "execution_count": 34,
   "metadata": {},
   "outputs": [],
   "source": [
    "def incremenet_grid(grid):\n",
    "    for row_id in range(len(grid)):\n",
    "        for col_id in range(len(grid[0])):\n",
    "            grid[row_id][col_id] += 1\n",
    "    \n",
    "    return grid\n"
   ]
  },
  {
   "cell_type": "code",
   "execution_count": 167,
   "metadata": {},
   "outputs": [],
   "source": [
    "def flash_neighbors(grid, flashed, row_id, col_id):\n",
    "    neighbor_rows = row_id - 1, row_id, row_id + 1\n",
    "    neighbor_cols = col_id - 1, col_id, col_id + 1\n",
    "    for neighbor_row_id in neighbor_rows:\n",
    "        if neighbor_row_id < 0 or neighbor_row_id >= len(grid): continue\n",
    "        for neighbor_col_id in neighbor_cols:\n",
    "            if neighbor_col_id < 0 or neighbor_col_id >= len(grid[0]): continue\n",
    "            # print(f'neighbor_row_id: {neighbor_row_id}, neighbor_col_id, {neighbor_col_id}')\n",
    "            if flashed[neighbor_row_id][neighbor_col_id] == True: continue\n",
    "            grid[neighbor_row_id][neighbor_col_id] += 1\n",
    "    return grid"
   ]
  },
  {
   "cell_type": "code",
   "execution_count": 269,
   "metadata": {},
   "outputs": [],
   "source": [
    "def check_for_sync(grid):\n",
    "    for row_id in range(len(grid)):\n",
    "        for col_id in range(len(grid[0])):\n",
    "            if grid[row_id][col_id] != 0: return False\n",
    "    return True"
   ]
  },
  {
   "cell_type": "code",
   "execution_count": 270,
   "metadata": {},
   "outputs": [],
   "source": [
    "def flash_grid(grid):\n",
    "    flashed = [[False for _ in range(len(grid))] for _ in range(len(grid[0]))]\n",
    "    flash_count = 0\n",
    "    in_sync = False\n",
    "    atleast_one_flash = True\n",
    "    while atleast_one_flash == True:\n",
    "        atleast_one_flash = False\n",
    "        sync_count = 0\n",
    "        for row_id in range(len(grid)):\n",
    "            for col_id in range(len(grid[0])):\n",
    "                if grid[row_id][col_id] >= 10 and flashed[row_id][col_id] == False:\n",
    "                    flash_count += 1\n",
    "                    grid[row_id][col_id] = 0\n",
    "                    flashed[row_id][col_id] = True\n",
    "                    grid = flash_neighbors(grid, flashed, row_id, col_id)\n",
    "                    atleast_one_flash = True\n",
    "        in_sync = check_for_sync(grid)\n",
    "            \n",
    "    return grid, flash_count, in_sync"
   ]
  },
  {
   "cell_type": "code",
   "execution_count": 286,
   "metadata": {},
   "outputs": [],
   "source": [
    "grid = build_octopus_grid('input_1.txt')"
   ]
  },
  {
   "cell_type": "code",
   "execution_count": 287,
   "metadata": {},
   "outputs": [],
   "source": [
    "def find_energy_levels(grid, n):\n",
    "    flash_count = 0\n",
    "    for i in range(n):\n",
    "        grid = incremenet_grid(grid)\n",
    "        grid, new_flashes, in_sync = flash_grid(grid)\n",
    "        flash_count += new_flashes\n",
    "        # for row in grid:\n",
    "        #     print(row)\n",
    "        # print()\n",
    "        if in_sync == True: \n",
    "            print(f'in sync after {i} rows')\n",
    "            return\n",
    "    return flash_count"
   ]
  },
  {
   "cell_type": "code",
   "execution_count": 288,
   "metadata": {},
   "outputs": [
    {
     "name": "stdout",
     "output_type": "stream",
     "text": [
      "in sync after 345 rows\n"
     ]
    }
   ],
   "source": [
    "find_energy_levels(grid, 1000)"
   ]
  }
 ],
 "metadata": {
  "kernelspec": {
   "display_name": "Python 3.8.10 ('venv_aoc2021': venv)",
   "language": "python",
   "name": "python3"
  },
  "language_info": {
   "codemirror_mode": {
    "name": "ipython",
    "version": 3
   },
   "file_extension": ".py",
   "mimetype": "text/x-python",
   "name": "python",
   "nbconvert_exporter": "python",
   "pygments_lexer": "ipython3",
   "version": "3.8.10"
  },
  "orig_nbformat": 4,
  "vscode": {
   "interpreter": {
    "hash": "dfcfb9e128e3bf5a1b5bbed672889f175f9abaf72498e936514cb54e1afb72c6"
   }
  }
 },
 "nbformat": 4,
 "nbformat_minor": 2
}
