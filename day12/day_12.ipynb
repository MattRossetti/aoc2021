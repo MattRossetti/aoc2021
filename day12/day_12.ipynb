{
 "cells": [
  {
   "cell_type": "code",
   "execution_count": 1,
   "metadata": {},
   "outputs": [],
   "source": [
    "from collections import defaultdict\n",
    "import sys\n",
    "import itertools"
   ]
  },
  {
   "cell_type": "code",
   "execution_count": 2,
   "metadata": {},
   "outputs": [],
   "source": [
    "# Build dictionary with paths\n",
    "def build_path_dict(map_file_path):\n",
    "    with open(map_file_path) as map_file:\n",
    "        map_dict = defaultdict(lambda: [])\n",
    "        lines = map_file.read().splitlines()\n",
    "        for line in lines:\n",
    "            line = line.split(\"-\")\n",
    "            map_dict[line[0]].append(line[1])\n",
    "            # if line[0] == \"start\" or line[0] == \"end\":\n",
    "            #     continue\n",
    "            map_dict[line[1]].append(line[0])\n",
    "    return map_dict"
   ]
  },
  {
   "cell_type": "code",
   "execution_count": 4,
   "metadata": {},
   "outputs": [
    {
     "name": "stdout",
     "output_type": "stream",
     "text": [
      "{'start': ['A', 'b'], 'A': ['c', 'b', 'end'], 'c': ['A'], 'b': ['A', 'd', 'end'], 'd': ['b'], 'end': ['A', 'b']}\n"
     ]
    }
   ],
   "source": [
    "map_dict = build_path_dict(\"example_1.txt\")\n",
    "print(dict(map_dict))"
   ]
  },
  {
   "cell_type": "code",
   "execution_count": 4,
   "metadata": {},
   "outputs": [],
   "source": [
    "# Traverse path with backtracking\n",
    "# Go to each first entry in dictionary\n",
    "# remember index of each decision\n",
    "# backtrack until there is a different option\n",
    "# take different path"
   ]
  },
  {
   "cell_type": "code",
   "execution_count": 3,
   "metadata": {},
   "outputs": [],
   "source": [
    "def traverse_paths(map_dict, successful_paths, path=[], branch=\"start\"):\n",
    "    current_path = path.copy()\n",
    "    current_path.append(branch)\n",
    "    if branch == \"end\":\n",
    "        # print(current_path)\n",
    "        successful_paths.append(current_path)\n",
    "        return\n",
    "    for next_branch in map_dict[branch]:\n",
    "        if next_branch.islower() and next_branch in current_path:\n",
    "            continue\n",
    "        traverse_paths(map_dict, successful_paths, current_path, next_branch)\n",
    "    return successful_paths"
   ]
  },
  {
   "cell_type": "code",
   "execution_count": 4,
   "metadata": {},
   "outputs": [],
   "source": [
    "def count_paths(map_dict):\n",
    "    successful_paths = traverse_paths(map_dict, [])\n",
    "    # for path in successful_paths:\n",
    "    #     print(path)\n",
    "    return len(successful_paths)"
   ]
  },
  {
   "cell_type": "code",
   "execution_count": 5,
   "metadata": {},
   "outputs": [],
   "source": [
    "map_dict = build_path_dict(\"example_1.txt\")"
   ]
  },
  {
   "cell_type": "code",
   "execution_count": 6,
   "metadata": {},
   "outputs": [
    {
     "data": {
      "text/plain": [
       "{'start': ['A', 'b'],\n",
       " 'A': ['start', 'c', 'b', 'end'],\n",
       " 'b': ['start', 'A', 'd', 'end'],\n",
       " 'c': ['A'],\n",
       " 'd': ['b'],\n",
       " 'end': ['A', 'b']}"
      ]
     },
     "execution_count": 6,
     "metadata": {},
     "output_type": "execute_result"
    }
   ],
   "source": [
    "dict(map_dict)"
   ]
  },
  {
   "cell_type": "code",
   "execution_count": 7,
   "metadata": {},
   "outputs": [
    {
     "data": {
      "text/plain": [
       "10"
      ]
     },
     "execution_count": 7,
     "metadata": {},
     "output_type": "execute_result"
    }
   ],
   "source": [
    "count_paths(map_dict)"
   ]
  },
  {
   "cell_type": "code",
   "execution_count": 8,
   "metadata": {},
   "outputs": [],
   "source": [
    "map_dict_2 = build_path_dict(\"example_2.txt\")"
   ]
  },
  {
   "cell_type": "code",
   "execution_count": 9,
   "metadata": {},
   "outputs": [
    {
     "data": {
      "text/plain": [
       "{'dc': ['end', 'start', 'HN', 'LN', 'kj'],\n",
       " 'end': ['dc', 'HN'],\n",
       " 'HN': ['start', 'dc', 'end', 'kj'],\n",
       " 'start': ['HN', 'kj', 'dc'],\n",
       " 'kj': ['start', 'sa', 'HN', 'dc'],\n",
       " 'LN': ['dc'],\n",
       " 'sa': ['kj']}"
      ]
     },
     "execution_count": 9,
     "metadata": {},
     "output_type": "execute_result"
    }
   ],
   "source": [
    "dict(map_dict_2)"
   ]
  },
  {
   "cell_type": "code",
   "execution_count": 10,
   "metadata": {},
   "outputs": [
    {
     "data": {
      "text/plain": [
       "19"
      ]
     },
     "execution_count": 10,
     "metadata": {},
     "output_type": "execute_result"
    }
   ],
   "source": [
    "count_paths(map_dict_2)"
   ]
  },
  {
   "cell_type": "code",
   "execution_count": 11,
   "metadata": {},
   "outputs": [],
   "source": [
    "map_dict_3 = build_path_dict(\"example_3.txt\")"
   ]
  },
  {
   "cell_type": "code",
   "execution_count": 12,
   "metadata": {},
   "outputs": [
    {
     "data": {
      "text/plain": [
       "226"
      ]
     },
     "execution_count": 12,
     "metadata": {},
     "output_type": "execute_result"
    }
   ],
   "source": [
    "count_paths(map_dict_3)"
   ]
  },
  {
   "cell_type": "code",
   "execution_count": 13,
   "metadata": {},
   "outputs": [
    {
     "data": {
      "text/plain": [
       "{'fs': ['end', 'he', 'DX', 'pj'],\n",
       " 'end': ['fs', 'zg'],\n",
       " 'he': ['DX', 'fs', 'pj', 'RW', 'WI', 'zg'],\n",
       " 'DX': ['he', 'start', 'pj', 'fs'],\n",
       " 'start': ['DX', 'pj', 'RW'],\n",
       " 'pj': ['DX', 'zg', 'he', 'RW', 'start', 'fs'],\n",
       " 'zg': ['end', 'sl', 'pj', 'RW', 'he'],\n",
       " 'sl': ['zg'],\n",
       " 'RW': ['he', 'pj', 'zg', 'start'],\n",
       " 'WI': ['he']}"
      ]
     },
     "execution_count": 13,
     "metadata": {},
     "output_type": "execute_result"
    }
   ],
   "source": [
    "dict(map_dict_3)"
   ]
  },
  {
   "cell_type": "code",
   "execution_count": 14,
   "metadata": {},
   "outputs": [],
   "source": [
    "map_dict_input = build_path_dict(\"input_1.txt\")"
   ]
  },
  {
   "cell_type": "code",
   "execution_count": 15,
   "metadata": {},
   "outputs": [
    {
     "data": {
      "text/plain": [
       "4549"
      ]
     },
     "execution_count": 15,
     "metadata": {},
     "output_type": "execute_result"
    }
   ],
   "source": [
    "count_paths(map_dict_input)"
   ]
  }
 ],
 "metadata": {
  "kernelspec": {
   "display_name": "Python 3.8.10 ('venv_aoc2021': venv)",
   "language": "python",
   "name": "python3"
  },
  "language_info": {
   "codemirror_mode": {
    "name": "ipython",
    "version": 3
   },
   "file_extension": ".py",
   "mimetype": "text/x-python",
   "name": "python",
   "nbconvert_exporter": "python",
   "pygments_lexer": "ipython3",
   "version": "3.8.10"
  },
  "orig_nbformat": 4,
  "vscode": {
   "interpreter": {
    "hash": "dfcfb9e128e3bf5a1b5bbed672889f175f9abaf72498e936514cb54e1afb72c6"
   }
  }
 },
 "nbformat": 4,
 "nbformat_minor": 2
}
