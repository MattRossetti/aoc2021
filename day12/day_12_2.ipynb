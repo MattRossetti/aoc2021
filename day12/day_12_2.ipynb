{
 "cells": [
  {
   "cell_type": "code",
   "execution_count": 1,
   "metadata": {},
   "outputs": [],
   "source": [
    "from collections import defaultdict\n",
    "import sys\n",
    "import itertools"
   ]
  },
  {
   "cell_type": "code",
   "execution_count": 382,
   "metadata": {},
   "outputs": [],
   "source": [
    "# Build dictionary with paths\n",
    "def build_path_dict(map_file_path):\n",
    "    with open(map_file_path) as map_file:\n",
    "        map_dict = defaultdict(lambda: [])\n",
    "        lines = map_file.read().splitlines()\n",
    "        for line in lines:\n",
    "            line = line.split(\"-\")\n",
    "            if line[1] != \"start\":\n",
    "                map_dict[line[0]].append(line[1])\n",
    "            if line[0] != \"start\": \n",
    "                map_dict[line[1]].append(line[0])\n",
    "        for value in map_dict.values():\n",
    "            value.sort()\n",
    "    return map_dict"
   ]
  },
  {
   "cell_type": "code",
   "execution_count": 3,
   "metadata": {},
   "outputs": [],
   "source": [
    "# Traverse path with backtracking\n",
    "# Go to each first entry in dictionary\n",
    "# remember index of each decision\n",
    "# backtrack until there is a different option\n",
    "# take different path"
   ]
  },
  {
   "cell_type": "code",
   "execution_count": 80,
   "metadata": {},
   "outputs": [],
   "source": [
    "my_list = [1, 2,3, 3]"
   ]
  },
  {
   "cell_type": "code",
   "execution_count": 82,
   "metadata": {},
   "outputs": [
    {
     "data": {
      "text/plain": [
       "2"
      ]
     },
     "execution_count": 82,
     "metadata": {},
     "output_type": "execute_result"
    }
   ],
   "source": [
    "my_list.count(3)"
   ]
  },
  {
   "cell_type": "code",
   "execution_count": 330,
   "metadata": {},
   "outputs": [],
   "source": [
    "def traverse_paths(\n",
    "    map_dict,\n",
    "    successful_paths=[],\n",
    "    path=[],\n",
    "    branch=\"start\",\n",
    "    can_visit_twice=\"\",\n",
    "    visited_twice=False,\n",
    "):\n",
    "    current_path = path.copy()\n",
    "    current_path.append(branch)\n",
    "    # print(current_path, can_visit_twice, visited_twice)\n",
    "    if branch.islower() and branch != \"start\" and visited_twice == False and can_visit_twice == '':\n",
    "        can_visit_twice = branch\n",
    "        print(can_visit_twice)\n",
    "    if current_path.count(can_visit_twice) == 2 and branch.islower() and visited_twice == False:\n",
    "        visited_twice = True\n",
    "    if branch == \"end\":\n",
    "        successful_paths.append(current_path)\n",
    "        print(current_path, can_visit_twice, visited_twice)\n",
    "        # print('success')\n",
    "        return\n",
    "    for next_branch in map_dict[branch]:\n",
    "        if (\n",
    "            next_branch.isupper()\n",
    "            or next_branch not in current_path\n",
    "            or (next_branch == can_visit_twice and visited_twice == False)\n",
    "        ):\n",
    "            traverse_paths(\n",
    "                map_dict,\n",
    "                successful_paths,\n",
    "                current_path,\n",
    "                next_branch,\n",
    "                can_visit_twice,\n",
    "                visited_twice,\n",
    "            )\n",
    "    return successful_paths"
   ]
  },
  {
   "cell_type": "code",
   "execution_count": 412,
   "metadata": {},
   "outputs": [],
   "source": [
    "def traverse_paths(\n",
    "    map_dict,\n",
    "    successful_paths=[],\n",
    "    path=[],\n",
    "    branch=\"start\",\n",
    "    can_visit_twice=\"\",\n",
    "    visited_twice=False,\n",
    "):\n",
    "    current_path = path.copy()\n",
    "    current_path.append(branch)\n",
    "    if current_path.count(can_visit_twice) == 2 and branch.islower() and visited_twice == False:\n",
    "        visited_twice = True\n",
    "    if branch == \"end\":\n",
    "        successful_paths.append(current_path)\n",
    "        # print(current_path, can_visit_twice, visited_twice)\n",
    "        # print('success')\n",
    "        return\n",
    "    for next_branch in map_dict[branch]:\n",
    "        if next_branch.islower():\n",
    "            can_visit_twice = next_branch\n",
    "        if (\n",
    "            next_branch.isupper()\n",
    "            or next_branch not in current_path\n",
    "            or visited_twice == False\n",
    "        ):\n",
    "            traverse_paths(\n",
    "                map_dict,\n",
    "                successful_paths,\n",
    "                current_path,\n",
    "                next_branch,\n",
    "                can_visit_twice,\n",
    "                visited_twice,\n",
    "            )\n",
    "    return successful_paths"
   ]
  },
  {
   "cell_type": "code",
   "execution_count": 397,
   "metadata": {},
   "outputs": [],
   "source": [
    "def count_paths(map_dict):\n",
    "    successful_paths = traverse_paths(map_dict)\n",
    "    # for path in successful_paths:\n",
    "    #     print(path)\n",
    "    return len(successful_paths)"
   ]
  },
  {
   "cell_type": "code",
   "execution_count": 239,
   "metadata": {},
   "outputs": [],
   "source": [
    "sys.setrecursionlimit(1000)"
   ]
  },
  {
   "cell_type": "code",
   "execution_count": 403,
   "metadata": {},
   "outputs": [],
   "source": [
    "map_dict = build_path_dict(\"example_1.txt\")"
   ]
  },
  {
   "cell_type": "code",
   "execution_count": 405,
   "metadata": {},
   "outputs": [
    {
     "data": {
      "text/plain": [
       "36"
      ]
     },
     "execution_count": 405,
     "metadata": {},
     "output_type": "execute_result"
    }
   ],
   "source": [
    "count_paths(map_dict)"
   ]
  },
  {
   "cell_type": "code",
   "execution_count": 406,
   "metadata": {},
   "outputs": [],
   "source": [
    "map_dict = build_path_dict(\"example_2.txt\")"
   ]
  },
  {
   "cell_type": "code",
   "execution_count": 408,
   "metadata": {},
   "outputs": [
    {
     "data": {
      "text/plain": [
       "103"
      ]
     },
     "execution_count": 408,
     "metadata": {},
     "output_type": "execute_result"
    }
   ],
   "source": [
    "count_paths(map_dict)"
   ]
  },
  {
   "cell_type": "code",
   "execution_count": 409,
   "metadata": {},
   "outputs": [],
   "source": [
    "map_dict = build_path_dict(\"example_3.txt\")"
   ]
  },
  {
   "cell_type": "code",
   "execution_count": 411,
   "metadata": {},
   "outputs": [
    {
     "data": {
      "text/plain": [
       "3509"
      ]
     },
     "execution_count": 411,
     "metadata": {},
     "output_type": "execute_result"
    }
   ],
   "source": [
    "count_paths(map_dict)"
   ]
  },
  {
   "cell_type": "code",
   "execution_count": 413,
   "metadata": {},
   "outputs": [],
   "source": [
    "map_dict = build_path_dict(\"input_1.txt\")"
   ]
  },
  {
   "cell_type": "code",
   "execution_count": 414,
   "metadata": {},
   "outputs": [
    {
     "data": {
      "text/plain": [
       "120535"
      ]
     },
     "execution_count": 414,
     "metadata": {},
     "output_type": "execute_result"
    }
   ],
   "source": [
    "count_paths(map_dict)"
   ]
  }
 ],
 "metadata": {
  "kernelspec": {
   "display_name": "Python 3.8.10 ('venv_aoc2021': venv)",
   "language": "python",
   "name": "python3"
  },
  "language_info": {
   "codemirror_mode": {
    "name": "ipython",
    "version": 3
   },
   "file_extension": ".py",
   "mimetype": "text/x-python",
   "name": "python",
   "nbconvert_exporter": "python",
   "pygments_lexer": "ipython3",
   "version": "3.8.10"
  },
  "orig_nbformat": 4,
  "vscode": {
   "interpreter": {
    "hash": "dfcfb9e128e3bf5a1b5bbed672889f175f9abaf72498e936514cb54e1afb72c6"
   }
  }
 },
 "nbformat": 4,
 "nbformat_minor": 2
}
